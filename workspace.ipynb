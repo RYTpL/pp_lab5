{
 "cells": [
  {
   "cell_type": "code",
   "execution_count": 3,
   "metadata": {},
   "outputs": [],
   "source": [
    "import torch\n",
    "import torch.nn as nn\n",
    "import torch\n",
    "import torch.optim as optim\n",
    "import torch.nn.functional as F\n",
    "\n",
    "from torchvision import datasets, models, transforms\n",
    "from torch.utils.data import DataLoader, Dataset\n",
    "\n",
    "from sklearn.model_selection import train_test_split\n",
    "\n",
    "\n",
    "import numpy as np\n",
    "import matplotlib.pyplot as plt\n",
    "import pandas as pd\n",
    "import cv2\n",
    "import os\n",
    "import glob"
   ]
  },
  {
   "cell_type": "code",
   "execution_count": 4,
   "metadata": {},
   "outputs": [
    {
     "name": "stdout",
     "output_type": "stream",
     "text": [
      "cpu\n"
     ]
    }
   ],
   "source": [
    "learning_rate = 0.001\n",
    "batch_size = 10\n",
    "epochs = 10\n",
    "\n",
    "device = 'cuda' if torch.cuda.is_available() else 'cpu'\n",
    "\n",
    "torch.manual_seed(1234)\n",
    "if device == 'cuda':\n",
    "    torch.cuda.manual_seed_all(1234)\n",
    "\n",
    "\n",
    "print(device)"
   ]
  },
  {
   "cell_type": "code",
   "execution_count": 6,
   "metadata": {},
   "outputs": [
    {
     "name": "stdout",
     "output_type": "stream",
     "text": [
      "                                    absolute_path dataset_class\n",
      "0       D:\\PP_lab2\\PP_lab2\\dataset\\zebra\\0000.jpg         zebra\n",
      "1       D:\\PP_lab2\\PP_lab2\\dataset\\zebra\\0001.jpg         zebra\n",
      "2       D:\\PP_lab2\\PP_lab2\\dataset\\zebra\\0002.jpg         zebra\n",
      "3       D:\\PP_lab2\\PP_lab2\\dataset\\zebra\\0003.jpg         zebra\n",
      "4       D:\\PP_lab2\\PP_lab2\\dataset\\zebra\\0004.jpg         zebra\n",
      "..                                            ...           ...\n",
      "685  D:\\PP_lab2\\PP_lab2\\dataset\\bayhorse\\0265.jpg      bayhorse\n",
      "686  D:\\PP_lab2\\PP_lab2\\dataset\\bayhorse\\0266.jpg      bayhorse\n",
      "687  D:\\PP_lab2\\PP_lab2\\dataset\\bayhorse\\0267.jpg      bayhorse\n",
      "688  D:\\PP_lab2\\PP_lab2\\dataset\\bayhorse\\0268.jpg      bayhorse\n",
      "689  D:\\PP_lab2\\PP_lab2\\dataset\\bayhorse\\0269.jpg      bayhorse\n",
      "\n",
      "[690 rows x 2 columns]\n"
     ]
    }
   ],
   "source": [
    "def create_dataset():\n",
    "    annotation1 = pd.read_csv(os.path.join(\"D:\\\\\", \"PP_lab2\", \"PP_lab2\", \"annotation1.csv\"), sep=',',\n",
    "                              header=None, encoding='UTF-8')\n",
    "    annotation2 = pd.read_csv(os.path.join(\"D:\\\\\", \"PP_lab2\", \"PP_lab2\", \"annotation2.csv\"), sep=' ',\n",
    "                              header=None, encoding='UTF-8')\n",
    "    df = pd.concat([annotation1, annotation2], ignore_index=True)\n",
    "    df.rename(columns={0: 'absolute_path', 1: 'dataset_class'}, inplace=True)\n",
    "    return df\n",
    "\n",
    "df = create_dataset() \n",
    "print(df)"
   ]
  }
 ],
 "metadata": {
  "kernelspec": {
   "display_name": "Python 3",
   "language": "python",
   "name": "python3"
  },
  "language_info": {
   "codemirror_mode": {
    "name": "ipython",
    "version": 3
   },
   "file_extension": ".py",
   "mimetype": "text/x-python",
   "name": "python",
   "nbconvert_exporter": "python",
   "pygments_lexer": "ipython3",
   "version": "3.10.8 (tags/v3.10.8:aaaf517, Oct 11 2022, 16:50:30) [MSC v.1933 64 bit (AMD64)]"
  },
  "orig_nbformat": 4,
  "vscode": {
   "interpreter": {
    "hash": "e76ccfd927520aca5db331c1c4ccbee5e94086e42bcc4f2199aed3ac48a2ce65"
   }
  }
 },
 "nbformat": 4,
 "nbformat_minor": 2
}
